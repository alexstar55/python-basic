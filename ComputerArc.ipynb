{
  "nbformat": 4,
  "nbformat_minor": 0,
  "metadata": {
    "colab": {
      "name": "ComputerArc.ipynb",
      "version": "0.3.2",
      "provenance": [],
      "collapsed_sections": [],
      "include_colab_link": true
    },
    "kernelspec": {
      "name": "python3",
      "display_name": "Python 3"
    }
  },
  "cells": [
    {
      "cell_type": "markdown",
      "metadata": {
        "id": "view-in-github",
        "colab_type": "text"
      },
      "source": [
        "<a href=\"https://colab.research.google.com/github/alexstar55/python-basic/blob/master/ComputerArc.ipynb\" target=\"_parent\"><img src=\"https://colab.research.google.com/assets/colab-badge.svg\" alt=\"Open In Colab\"/></a>"
      ]
    },
    {
      "cell_type": "code",
      "metadata": {
        "id": "XEjDNNbDgmQ2",
        "colab_type": "code",
        "colab": {}
      },
      "source": [
        ""
      ],
      "execution_count": 0,
      "outputs": []
    },
    {
      "cell_type": "markdown",
      "metadata": {
        "id": "r8oO6WJs5cgY",
        "colab_type": "text"
      },
      "source": [
        "## Spring2015 Carnegie Mellon Computer Architecture"
      ]
    },
    {
      "cell_type": "markdown",
      "metadata": {
        "id": "6UcqYVtx50LX",
        "colab_type": "text"
      },
      "source": [
        "### lec1  Introduction and Basics"
      ]
    },
    {
      "cell_type": "markdown",
      "metadata": {
        "id": "kgyj89BS55hn",
        "colab_type": "text"
      },
      "source": [
        "To understand principles of design, just like building.  \n",
        "Be Dreamer, know what happened. Look up to know problems to solve, look down to know limits of hardware  \n",
        "15min"
      ]
    },
    {
      "cell_type": "markdown",
      "metadata": {
        "id": "rdUizBzt-4mW",
        "colab_type": "text"
      },
      "source": [
        "**What happens in between** programmer and hardware designer"
      ]
    },
    {
      "cell_type": "code",
      "metadata": {
        "id": "b811v4nB5ybJ",
        "colab_type": "code",
        "colab": {}
      },
      "source": [
        ""
      ],
      "execution_count": 0,
      "outputs": []
    }
  ]
}