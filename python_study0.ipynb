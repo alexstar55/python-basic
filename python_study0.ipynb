{
  "nbformat": 4,
  "nbformat_minor": 0,
  "metadata": {
    "colab": {
      "name": "python_study0.ipynb",
      "version": "0.3.2",
      "provenance": [],
      "collapsed_sections": [],
      "include_colab_link": true
    },
    "language_info": {
      "codemirror_mode": {
        "name": "ipython",
        "version": 3
      },
      "file_extension": ".py",
      "mimetype": "text/x-python",
      "name": "python",
      "nbconvert_exporter": "python",
      "pygments_lexer": "ipython3",
      "version": "3.6.8"
    },
    "kernelspec": {
      "display_name": "Python [conda env:fastai]",
      "language": "python",
      "name": "conda-env-fastai-py"
    }
  },
  "cells": [
    {
      "cell_type": "markdown",
      "metadata": {
        "id": "view-in-github",
        "colab_type": "text"
      },
      "source": [
        "<a href=\"https://colab.research.google.com/github/alexstar55/python-basic/blob/master/python_study0.ipynb\" target=\"_parent\"><img src=\"https://colab.research.google.com/assets/colab-badge.svg\" alt=\"Open In Colab\"/></a>"
      ]
    },
    {
      "cell_type": "markdown",
      "metadata": {
        "id": "5mN0LJnPLKYG",
        "colab_type": "text"
      },
      "source": [
        "### 说明：因为经常接触对文件和路径处理的任务，所以首先结合这方面，和相关理论，进行了练习  \n",
        "另外，对于批量重命名，代码练习在rename.py。读取txt并移动其中记录的相关文件，代码练习在genetestset.py"
      ]
    },
    {
      "cell_type": "code",
      "metadata": {
        "id": "R7Ss2WN1LKYH",
        "colab_type": "code",
        "colab": {}
      },
      "source": [
        "from sklearn.datasets import load_files       \n",
        "import numpy as np\n",
        "import os\n",
        "from glob import glob"
      ],
      "execution_count": 0,
      "outputs": []
    },
    {
      "cell_type": "markdown",
      "metadata": {
        "id": "kiud_n_eLKYK",
        "colab_type": "text"
      },
      "source": [
        "### 字符串, list"
      ]
    },
    {
      "cell_type": "markdown",
      "metadata": {
        "id": "LbkLmI9HLKYL",
        "colab_type": "text"
      },
      "source": [
        "- 练习1：如何翻转字符串，比如“aStr\"?"
      ]
    },
    {
      "cell_type": "code",
      "metadata": {
        "id": "BtZ5DwWTLKYL",
        "colab_type": "code",
        "outputId": "381dc87b-7736-42b8-d72e-e0c06bb67d27",
        "colab": {}
      },
      "source": [
        "print(\"aStr\"[::-1])"
      ],
      "execution_count": 0,
      "outputs": [
        {
          "output_type": "stream",
          "text": [
            "rtSa\n"
          ],
          "name": "stdout"
        }
      ]
    },
    {
      "cell_type": "markdown",
      "metadata": {
        "id": "9jGWEoAQLKYP",
        "colab_type": "text"
      },
      "source": [
        "- 练习2：下面代码的输出结果将是什么？会报错吗？"
      ]
    },
    {
      "cell_type": "code",
      "metadata": {
        "id": "Ap1UZgj6LKYQ",
        "colab_type": "code",
        "outputId": "004ddf5b-7c7f-4aef-970f-ac00a48b70cc",
        "colab": {}
      },
      "source": [
        "list0 = ['a','b','c','d','e']\n",
        "print(list0[10:])"
      ],
      "execution_count": 0,
      "outputs": [
        {
          "output_type": "stream",
          "text": [
            "[]\n"
          ],
          "name": "stdout"
        }
      ]
    },
    {
      "cell_type": "markdown",
      "metadata": {
        "id": "jfNGJW0WLKYT",
        "colab_type": "text"
      },
      "source": [
        "代码输出[]，并不会产生IndexError 错误。如果尝试用超出成员的个数的index来获取某个列表的成员，那就会报错。例如，尝试获取 list[10] 和之后的成员，会导致IndexError。然而当我们尝试获取列表的切片时，开始的index超过成员个数并不会产生IndexError，而是仅仅返回一个空列表。因为并不会报错，所以这种Bug很难追踪到。"
      ]
    },
    {
      "cell_type": "markdown",
      "metadata": {
        "id": "6Qnp823yLKYU",
        "colab_type": "text"
      },
      "source": [
        "- 练习3：实现删除list里面的重复元素"
      ]
    },
    {
      "cell_type": "code",
      "metadata": {
        "id": "wxRycj-gLKYU",
        "colab_type": "code",
        "outputId": "e169fe70-21aa-486c-b4b9-dc2b1f2c013c",
        "colab": {}
      },
      "source": [
        "l1 = ['b','c','d','c','a','a']\n",
        "l2 = list(set(l1))\n",
        "print(l2)"
      ],
      "execution_count": 0,
      "outputs": [
        {
          "output_type": "stream",
          "text": [
            "['d', 'b', 'a', 'c']\n"
          ],
          "name": "stdout"
        }
      ]
    },
    {
      "cell_type": "markdown",
      "metadata": {
        "id": "LwpRRjAKLKYX",
        "colab_type": "text"
      },
      "source": [
        "      可以用list类的sort方法可以保证顺序不变：  "
      ]
    },
    {
      "cell_type": "code",
      "metadata": {
        "id": "3QPdluxtLKYY",
        "colab_type": "code",
        "outputId": "65e91e4d-0761-4e1d-d9f0-4609ef68ccc7",
        "colab": {}
      },
      "source": [
        "l11 = ['b', 'c', 'd', 'c', 'a', 'a']\n",
        "l12 = list(set(l11))\n",
        "l12.sort(key=l11.index)\n",
        "print(l12)"
      ],
      "execution_count": 0,
      "outputs": [
        {
          "output_type": "stream",
          "text": [
            "['b', 'c', 'd', 'a']\n"
          ],
          "name": "stdout"
        }
      ]
    },
    {
      "cell_type": "markdown",
      "metadata": {
        "id": "gcm5TfWtLKYb",
        "colab_type": "text"
      },
      "source": [
        "    也可以这样写："
      ]
    },
    {
      "cell_type": "code",
      "metadata": {
        "id": "rmtYSeqULKYb",
        "colab_type": "code",
        "outputId": "7c34c103-5a29-4359-9eb5-05c6ea511ecd",
        "colab": {}
      },
      "source": [
        "l21 = ['b', 'c', 'd', 'c', 'a', 'a']\n",
        "l22 = sorted(set(l21), key=l21.index)\n",
        "print(l22)"
      ],
      "execution_count": 0,
      "outputs": [
        {
          "output_type": "stream",
          "text": [
            "['b', 'c', 'd', 'a']\n"
          ],
          "name": "stdout"
        }
      ]
    },
    {
      "cell_type": "markdown",
      "metadata": {
        "id": "sY89JD_xLKYf",
        "colab_type": "text"
      },
      "source": [
        "    也可以用遍历："
      ]
    },
    {
      "cell_type": "code",
      "metadata": {
        "id": "jIO2KZv8LKYg",
        "colab_type": "code",
        "outputId": "28959efa-bea2-43a8-d4bb-42d724ca856c",
        "colab": {}
      },
      "source": [
        "l31 = ['b', 'c', 'd', 'c', 'a', 'a']\n",
        "l32 = []\n",
        "for i in l31:\n",
        "    if not i in l32:\n",
        "        l32.append(i)\n",
        "print(l32)"
      ],
      "execution_count": 0,
      "outputs": [
        {
          "output_type": "stream",
          "text": [
            "['b', 'c', 'd', 'a']\n"
          ],
          "name": "stdout"
        }
      ]
    },
    {
      "cell_type": "markdown",
      "metadata": {
        "id": "pCPWv8riLKYj",
        "colab_type": "text"
      },
      "source": [
        "---"
      ]
    },
    {
      "cell_type": "markdown",
      "metadata": {
        "id": "0FpVT9OVLKYk",
        "colab_type": "text"
      },
      "source": [
        "### 文件操作"
      ]
    },
    {
      "cell_type": "markdown",
      "metadata": {
        "id": "HDXqpU3QLKYl",
        "colab_type": "text"
      },
      "source": [
        "- 现在要处理一个大小为10G的file.txt文件，但是内存只有4G。如果在只修改get_lines 函数而其他代码保持不变的情况下，应该如何实现？"
      ]
    },
    {
      "cell_type": "code",
      "metadata": {
        "id": "KKWLDM3oLKYl",
        "colab_type": "code",
        "colab": {}
      },
      "source": [
        "def get_lines():\n",
        "        l = []\n",
        "        with open('file.txt','rb') as f:\n",
        "            data = f.readlines(60000)\n",
        "        l.append(data)\n",
        "        yield l\n",
        "\n",
        "if __name__ == '__main__':\n",
        "    for e in get_lines():\n",
        "        process(e) #处理每一行数据"
      ],
      "execution_count": 0,
      "outputs": []
    },
    {
      "cell_type": "markdown",
      "metadata": {
        "id": "6wBHDXn9LKYn",
        "colab_type": "text"
      },
      "source": [
        "- 文件名操作"
      ]
    },
    {
      "cell_type": "markdown",
      "metadata": {
        "id": "4wFz3BYiLKYo",
        "colab_type": "text"
      },
      "source": [
        "对某文件夹下文件操作：取绝对路径，取文件名，去除扩展名，找特定字符信息："
      ]
    },
    {
      "cell_type": "code",
      "metadata": {
        "id": "OO6N8xj_LKYo",
        "colab_type": "code",
        "outputId": "186fb3af-a5ca-4b69-8f85-dfb5bc2826d7",
        "colab": {}
      },
      "source": [
        "file_img=np.array(glob(\"imgtry/*\"))\n",
        "file_img"
      ],
      "execution_count": 0,
      "outputs": [
        {
          "output_type": "execute_result",
          "data": {
            "text/plain": [
              "array(['imgtry/S0001_0004_HD_Video_20190408225536977_20190408230000161.mp4',\n",
              "       'imgtry/S0001_0002_HD_Video_20190409225127887_20190409230000156.mp4',\n",
              "       'imgtry/S0001_0002_HD_Video_20190409223800475_20190409224724147.mp4',\n",
              "       'imgtry/S0001_0001_HD_Video_20190409224800475_20190409225724148.mp4',\n",
              "       'imgtry/S0001_0001_HD_Video_20190409224424137_20190409224724148 .mp4',\n",
              "       'imgtry/S0001_0004_HD_Video_20190409224432334_20190409225433205.mp4'],\n",
              "      dtype='<U67')"
            ]
          },
          "metadata": {
            "tags": []
          },
          "execution_count": 2
        }
      ]
    },
    {
      "cell_type": "code",
      "metadata": {
        "id": "dBtVVLA5LKYr",
        "colab_type": "code",
        "outputId": "5c0db0be-3021-4971-fdd6-c2042b440b49",
        "colab": {}
      },
      "source": [
        "full_path0=os.path.abspath(file_img[0])\n",
        "full_path0"
      ],
      "execution_count": 0,
      "outputs": [
        {
          "output_type": "execute_result",
          "data": {
            "text/plain": [
              "'/home/alex/prog/jobs/1903/imgtry/S0001_0004_HD_Video_20190408225536977_20190408230000161.mp4'"
            ]
          },
          "metadata": {
            "tags": []
          },
          "execution_count": 3
        }
      ]
    },
    {
      "cell_type": "code",
      "metadata": {
        "id": "NvtOBQJQLKYu",
        "colab_type": "code",
        "outputId": "cf985c20-040b-411f-bee5-b72643e4c435",
        "colab": {}
      },
      "source": [
        "os.path.split(full_path0)"
      ],
      "execution_count": 0,
      "outputs": [
        {
          "output_type": "execute_result",
          "data": {
            "text/plain": [
              "('/home/alex/prog/jobs/1903/imgtry',\n",
              " 'S0001_0004_HD_Video_20190408225536977_20190408230000161.mp4')"
            ]
          },
          "metadata": {
            "tags": []
          },
          "execution_count": 4
        }
      ]
    },
    {
      "cell_type": "code",
      "metadata": {
        "id": "68I4nkhaLKYx",
        "colab_type": "code",
        "outputId": "32ff85e5-99ad-4c34-ff8c-1a804f693b73",
        "colab": {}
      },
      "source": [
        "os.path.splitext(full_path0)"
      ],
      "execution_count": 0,
      "outputs": [
        {
          "output_type": "execute_result",
          "data": {
            "text/plain": [
              "('/home/alex/prog/jobs/1903/imgtry/S0001_0004_HD_Video_20190408225536977_20190408230000161',\n",
              " '.mp4')"
            ]
          },
          "metadata": {
            "tags": []
          },
          "execution_count": 5
        }
      ]
    },
    {
      "cell_type": "markdown",
      "metadata": {
        "id": "f37-rmY7LKY2",
        "colab_type": "text"
      },
      "source": [
        "取出文件名："
      ]
    },
    {
      "cell_type": "code",
      "metadata": {
        "id": "_kN5nALfLKY2",
        "colab_type": "code",
        "outputId": "aefcf8ab-c8ef-4416-9415-9daa70d6cdeb",
        "colab": {}
      },
      "source": [
        "sample_name=os.path.split(full_path0)[1]\n",
        "sample_name"
      ],
      "execution_count": 0,
      "outputs": [
        {
          "output_type": "execute_result",
          "data": {
            "text/plain": [
              "'S0001_0004_HD_Video_20190408225536977_20190408230000161.mp4'"
            ]
          },
          "metadata": {
            "tags": []
          },
          "execution_count": 6
        }
      ]
    },
    {
      "cell_type": "code",
      "metadata": {
        "id": "2EW7ij07LKY6",
        "colab_type": "code",
        "outputId": "1d012968-b3e5-4c06-f1ab-864406990682",
        "colab": {}
      },
      "source": [
        "file_img[-2]"
      ],
      "execution_count": 0,
      "outputs": [
        {
          "output_type": "execute_result",
          "data": {
            "text/plain": [
              "'imgtry/S0001_0001_HD_Video_20190409224424137_20190409224724148 .mp4'"
            ]
          },
          "metadata": {
            "tags": []
          },
          "execution_count": 7
        }
      ]
    },
    {
      "cell_type": "markdown",
      "metadata": {
        "id": "U_3Docu-LKY9",
        "colab_type": "text"
      },
      "source": [
        "-------------"
      ]
    },
    {
      "cell_type": "markdown",
      "metadata": {
        "id": "a2SKHMuPLKY9",
        "colab_type": "text"
      },
      "source": [
        "- 函数与集合练习"
      ]
    },
    {
      "cell_type": "code",
      "metadata": {
        "id": "cK6J3tZJLKY-",
        "colab_type": "code",
        "colab": {}
      },
      "source": [
        "#input 1 video file full path, output file name split\n",
        "#eg: '/home/alex/prog/jobs/1903/imgtry/S0001_0001_HD_Video_20190409152500475_20190409152924148.mp4' to\n",
        "#['S0001', '0001', 'HD', 'Video', '20190409152500475', '20190409152924148']\n",
        "#then output ['S0001', '0001',  '20190409152500475', '20190409152924148']\n",
        "def file_split(fullpath):\n",
        "    file_name=os.path.split(fullpath)[1]\n",
        "    namelist=file_name.split('.')[0].split('_')\n",
        "    shop_num, cam_num, _0, _1, start_time, end_time=namelist\n",
        "    return [shop_num, cam_num, start_time, end_time]\n",
        "\n",
        "def files2list(file_vid):\n",
        "    files_list=[]\n",
        "    for filepath in file_vid:\n",
        "        files_list.append(file_split(filepath))\n",
        "    return files_list        "
      ],
      "execution_count": 0,
      "outputs": []
    },
    {
      "cell_type": "markdown",
      "metadata": {
        "id": "Qzwg12tTLKZA",
        "colab_type": "text"
      },
      "source": [
        "下面代码是为了找到文件名中，包含的摄像头名称信息"
      ]
    },
    {
      "cell_type": "code",
      "metadata": {
        "id": "6-4nayVBLKZA",
        "colab_type": "code",
        "outputId": "19260374-17f4-442f-92d8-111640fc5515",
        "colab": {}
      },
      "source": [
        "fileslist=files2list(file_img)\n",
        "fileslist"
      ],
      "execution_count": 0,
      "outputs": [
        {
          "output_type": "execute_result",
          "data": {
            "text/plain": [
              "[['S0001', '0004', '20190408225536977', '20190408230000161'],\n",
              " ['S0001', '0002', '20190409225127887', '20190409230000156'],\n",
              " ['S0001', '0002', '20190409223800475', '20190409224724147'],\n",
              " ['S0001', '0001', '20190409224800475', '20190409225724148'],\n",
              " ['S0001', '0001', '20190409224424137', '20190409224724148 '],\n",
              " ['S0001', '0004', '20190409224432334', '20190409225433205']]"
            ]
          },
          "metadata": {
            "tags": []
          },
          "execution_count": 10
        }
      ]
    },
    {
      "cell_type": "code",
      "metadata": {
        "id": "c7ecM_vmLKZD",
        "colab_type": "code",
        "outputId": "c3a3a024-17af-47f9-b9ce-6783e15729b3",
        "colab": {}
      },
      "source": [
        "nums=[fileslist[i][1] for i in range(len(fileslist))]\n",
        "nums"
      ],
      "execution_count": 0,
      "outputs": [
        {
          "output_type": "execute_result",
          "data": {
            "text/plain": [
              "['0004', '0002', '0002', '0001', '0001', '0004']"
            ]
          },
          "metadata": {
            "tags": []
          },
          "execution_count": 12
        }
      ]
    },
    {
      "cell_type": "markdown",
      "metadata": {
        "id": "Bjdc8-QhLKZF",
        "colab_type": "text"
      },
      "source": [
        "找到（不重复的）摄像头名"
      ]
    },
    {
      "cell_type": "code",
      "metadata": {
        "id": "BqhoMZtvLKZG",
        "colab_type": "code",
        "outputId": "61c0fa2e-ba41-4be8-db27-52f2814e0cb6",
        "colab": {}
      },
      "source": [
        "setnums=set(nums)\n",
        "print(setnums)\n",
        "setnums=list(setnums) \n",
        "setnums"
      ],
      "execution_count": 0,
      "outputs": [
        {
          "output_type": "stream",
          "text": [
            "{'0001', '0004', '0002'}\n"
          ],
          "name": "stdout"
        },
        {
          "output_type": "execute_result",
          "data": {
            "text/plain": [
              "['0001', '0004', '0002']"
            ]
          },
          "metadata": {
            "tags": []
          },
          "execution_count": 13
        }
      ]
    },
    {
      "cell_type": "markdown",
      "metadata": {
        "id": "zEg0VK7gLKZJ",
        "colab_type": "text"
      },
      "source": [
        "-------------------------\n",
        "### txt文件读取，修改与写入新txt文件"
      ]
    },
    {
      "cell_type": "markdown",
      "metadata": {
        "id": "jyw8WmuSLKZK",
        "colab_type": "text"
      },
      "source": [
        "读取一个txt，对每一行的路径信息操作。然后写入新文件"
      ]
    },
    {
      "cell_type": "code",
      "metadata": {
        "id": "0Eno7hSiLKZK",
        "colab_type": "code",
        "colab": {}
      },
      "source": [
        "FILEPATH='./train.txt'\n",
        "lines = open(FILEPATH).readlines()\n",
        "\n",
        "\n",
        "lines = [o.rstrip('\\n') for o in lines]\n",
        "#lines\n",
        "\n",
        "file_names=[os.path.split(o)[1] for o in lines]\n",
        "\n",
        "# %%time\n",
        "# import time\n",
        "with open(\"./for_heat.txt\",'w+') as f:\n",
        "    for o in file_names:\n",
        "        f.write(o+'\\n')\n"
      ],
      "execution_count": 0,
      "outputs": []
    },
    {
      "cell_type": "markdown",
      "metadata": {
        "id": "MVmkA7h1LKZN",
        "colab_type": "text"
      },
      "source": [
        ""
      ]
    }
  ]
}