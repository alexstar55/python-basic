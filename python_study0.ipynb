{
 "cells": [
  {
   "cell_type": "markdown",
   "metadata": {},
   "source": [
    "### 说明：因为经常接触对文件和路径处理的任务，所以首先结合这方面，和相关理论，进行了练习  \n",
    "另外，对于批量重命名，代码练习在rename.py。读取txt并移动其中记录的相关文件，代码练习在genetestset.py"
   ]
  },
  {
   "cell_type": "code",
   "execution_count": 1,
   "metadata": {},
   "outputs": [],
   "source": [
    "from sklearn.datasets import load_files       \n",
    "import numpy as np\n",
    "import os\n",
    "from glob import glob"
   ]
  },
  {
   "cell_type": "markdown",
   "metadata": {},
   "source": [
    "### 字符串, list"
   ]
  },
  {
   "cell_type": "markdown",
   "metadata": {},
   "source": [
    "- 练习1：如何翻转字符串，比如“aStr\"?"
   ]
  },
  {
   "cell_type": "code",
   "execution_count": 1,
   "metadata": {},
   "outputs": [
    {
     "name": "stdout",
     "output_type": "stream",
     "text": [
      "rtSa\n"
     ]
    }
   ],
   "source": [
    "print(\"aStr\"[::-1])"
   ]
  },
  {
   "cell_type": "markdown",
   "metadata": {},
   "source": [
    "- 练习2：下面代码的输出结果将是什么？会报错吗？"
   ]
  },
  {
   "cell_type": "code",
   "execution_count": 2,
   "metadata": {},
   "outputs": [
    {
     "name": "stdout",
     "output_type": "stream",
     "text": [
      "[]\n"
     ]
    }
   ],
   "source": [
    "list0 = ['a','b','c','d','e']\n",
    "print(list0[10:])"
   ]
  },
  {
   "cell_type": "markdown",
   "metadata": {},
   "source": [
    "代码输出[]，并不会产生IndexError 错误。如果尝试用超出成员的个数的index来获取某个列表的成员，那就会报错。例如，尝试获取 list[10] 和之后的成员，会导致IndexError。然而当我们尝试获取列表的切片时，开始的index超过成员个数并不会产生IndexError，而是仅仅返回一个空列表。因为并不会报错，所以这种Bug很难追踪到。"
   ]
  },
  {
   "cell_type": "markdown",
   "metadata": {},
   "source": [
    "- 练习3：实现删除list里面的重复元素"
   ]
  },
  {
   "cell_type": "code",
   "execution_count": 3,
   "metadata": {},
   "outputs": [
    {
     "name": "stdout",
     "output_type": "stream",
     "text": [
      "['d', 'b', 'a', 'c']\n"
     ]
    }
   ],
   "source": [
    "l1 = ['b','c','d','c','a','a']\n",
    "l2 = list(set(l1))\n",
    "print(l2)"
   ]
  },
  {
   "cell_type": "markdown",
   "metadata": {},
   "source": [
    "      可以用list类的sort方法可以保证顺序不变：  "
   ]
  },
  {
   "cell_type": "code",
   "execution_count": 5,
   "metadata": {},
   "outputs": [
    {
     "name": "stdout",
     "output_type": "stream",
     "text": [
      "['b', 'c', 'd', 'a']\n"
     ]
    }
   ],
   "source": [
    "l11 = ['b', 'c', 'd', 'c', 'a', 'a']\n",
    "l12 = list(set(l11))\n",
    "l12.sort(key=l11.index)\n",
    "print(l12)"
   ]
  },
  {
   "cell_type": "markdown",
   "metadata": {},
   "source": [
    "    也可以这样写："
   ]
  },
  {
   "cell_type": "code",
   "execution_count": 6,
   "metadata": {},
   "outputs": [
    {
     "name": "stdout",
     "output_type": "stream",
     "text": [
      "['b', 'c', 'd', 'a']\n"
     ]
    }
   ],
   "source": [
    "l21 = ['b', 'c', 'd', 'c', 'a', 'a']\n",
    "l22 = sorted(set(l21), key=l21.index)\n",
    "print(l22)"
   ]
  },
  {
   "cell_type": "markdown",
   "metadata": {},
   "source": [
    "    也可以用遍历："
   ]
  },
  {
   "cell_type": "code",
   "execution_count": 7,
   "metadata": {},
   "outputs": [
    {
     "name": "stdout",
     "output_type": "stream",
     "text": [
      "['b', 'c', 'd', 'a']\n"
     ]
    }
   ],
   "source": [
    "l31 = ['b', 'c', 'd', 'c', 'a', 'a']\n",
    "l32 = []\n",
    "for i in l31:\n",
    "    if not i in l32:\n",
    "        l32.append(i)\n",
    "print(l32)"
   ]
  },
  {
   "cell_type": "markdown",
   "metadata": {},
   "source": [
    "---"
   ]
  },
  {
   "cell_type": "markdown",
   "metadata": {},
   "source": [
    "### 文件操作"
   ]
  },
  {
   "cell_type": "markdown",
   "metadata": {},
   "source": [
    "- 现在要处理一个大小为10G的file.txt文件，但是内存只有4G。如果在只修改get_lines 函数而其他代码保持不变的情况下，应该如何实现？"
   ]
  },
  {
   "cell_type": "code",
   "execution_count": null,
   "metadata": {},
   "outputs": [],
   "source": [
    "def get_lines():\n",
    "        l = []\n",
    "        with open('file.txt','rb') as f:\n",
    "            data = f.readlines(60000)\n",
    "        l.append(data)\n",
    "        yield l\n",
    "\n",
    "if __name__ == '__main__':\n",
    "    for e in get_lines():\n",
    "        process(e) #处理每一行数据"
   ]
  },
  {
   "cell_type": "markdown",
   "metadata": {},
   "source": [
    "- 文件名操作"
   ]
  },
  {
   "cell_type": "markdown",
   "metadata": {},
   "source": [
    "对某文件夹下文件操作：取绝对路径，取文件名，去除扩展名，找特定字符信息："
   ]
  },
  {
   "cell_type": "code",
   "execution_count": 2,
   "metadata": {},
   "outputs": [
    {
     "data": {
      "text/plain": [
       "array(['imgtry/S0001_0004_HD_Video_20190408225536977_20190408230000161.mp4',\n",
       "       'imgtry/S0001_0002_HD_Video_20190409225127887_20190409230000156.mp4',\n",
       "       'imgtry/S0001_0002_HD_Video_20190409223800475_20190409224724147.mp4',\n",
       "       'imgtry/S0001_0001_HD_Video_20190409224800475_20190409225724148.mp4',\n",
       "       'imgtry/S0001_0001_HD_Video_20190409224424137_20190409224724148 .mp4',\n",
       "       'imgtry/S0001_0004_HD_Video_20190409224432334_20190409225433205.mp4'],\n",
       "      dtype='<U67')"
      ]
     },
     "execution_count": 2,
     "metadata": {},
     "output_type": "execute_result"
    }
   ],
   "source": [
    "file_img=np.array(glob(\"imgtry/*\"))\n",
    "file_img"
   ]
  },
  {
   "cell_type": "code",
   "execution_count": 3,
   "metadata": {},
   "outputs": [
    {
     "data": {
      "text/plain": [
       "'/home/alex/prog/jobs/1903/imgtry/S0001_0004_HD_Video_20190408225536977_20190408230000161.mp4'"
      ]
     },
     "execution_count": 3,
     "metadata": {},
     "output_type": "execute_result"
    }
   ],
   "source": [
    "full_path0=os.path.abspath(file_img[0])\n",
    "full_path0"
   ]
  },
  {
   "cell_type": "code",
   "execution_count": 4,
   "metadata": {},
   "outputs": [
    {
     "data": {
      "text/plain": [
       "('/home/alex/prog/jobs/1903/imgtry',\n",
       " 'S0001_0004_HD_Video_20190408225536977_20190408230000161.mp4')"
      ]
     },
     "execution_count": 4,
     "metadata": {},
     "output_type": "execute_result"
    }
   ],
   "source": [
    "os.path.split(full_path0)"
   ]
  },
  {
   "cell_type": "code",
   "execution_count": 5,
   "metadata": {},
   "outputs": [
    {
     "data": {
      "text/plain": [
       "('/home/alex/prog/jobs/1903/imgtry/S0001_0004_HD_Video_20190408225536977_20190408230000161',\n",
       " '.mp4')"
      ]
     },
     "execution_count": 5,
     "metadata": {},
     "output_type": "execute_result"
    }
   ],
   "source": [
    "os.path.splitext(full_path0)"
   ]
  },
  {
   "cell_type": "markdown",
   "metadata": {},
   "source": [
    "取出文件名："
   ]
  },
  {
   "cell_type": "code",
   "execution_count": 6,
   "metadata": {},
   "outputs": [
    {
     "data": {
      "text/plain": [
       "'S0001_0004_HD_Video_20190408225536977_20190408230000161.mp4'"
      ]
     },
     "execution_count": 6,
     "metadata": {},
     "output_type": "execute_result"
    }
   ],
   "source": [
    "sample_name=os.path.split(full_path0)[1]\n",
    "sample_name"
   ]
  },
  {
   "cell_type": "code",
   "execution_count": 7,
   "metadata": {},
   "outputs": [
    {
     "data": {
      "text/plain": [
       "'imgtry/S0001_0001_HD_Video_20190409224424137_20190409224724148 .mp4'"
      ]
     },
     "execution_count": 7,
     "metadata": {},
     "output_type": "execute_result"
    }
   ],
   "source": [
    "file_img[-2]"
   ]
  },
  {
   "cell_type": "markdown",
   "metadata": {},
   "source": [
    "-------------"
   ]
  },
  {
   "cell_type": "markdown",
   "metadata": {},
   "source": [
    "- 函数与集合练习"
   ]
  },
  {
   "cell_type": "code",
   "execution_count": 9,
   "metadata": {},
   "outputs": [],
   "source": [
    "#input 1 video file full path, output file name split\n",
    "#eg: '/home/alex/prog/jobs/1903/imgtry/S0001_0001_HD_Video_20190409152500475_20190409152924148.mp4' to\n",
    "#['S0001', '0001', 'HD', 'Video', '20190409152500475', '20190409152924148']\n",
    "#then output ['S0001', '0001',  '20190409152500475', '20190409152924148']\n",
    "def file_split(fullpath):\n",
    "    file_name=os.path.split(fullpath)[1]\n",
    "    namelist=file_name.split('.')[0].split('_')\n",
    "    shop_num, cam_num, _0, _1, start_time, end_time=namelist\n",
    "    return [shop_num, cam_num, start_time, end_time]\n",
    "\n",
    "def files2list(file_vid):\n",
    "    files_list=[]\n",
    "    for filepath in file_vid:\n",
    "        files_list.append(file_split(filepath))\n",
    "    return files_list        "
   ]
  },
  {
   "cell_type": "markdown",
   "metadata": {},
   "source": [
    "下面代码是为了找到文件名中，包含的摄像头名称信息"
   ]
  },
  {
   "cell_type": "code",
   "execution_count": 10,
   "metadata": {},
   "outputs": [
    {
     "data": {
      "text/plain": [
       "[['S0001', '0004', '20190408225536977', '20190408230000161'],\n",
       " ['S0001', '0002', '20190409225127887', '20190409230000156'],\n",
       " ['S0001', '0002', '20190409223800475', '20190409224724147'],\n",
       " ['S0001', '0001', '20190409224800475', '20190409225724148'],\n",
       " ['S0001', '0001', '20190409224424137', '20190409224724148 '],\n",
       " ['S0001', '0004', '20190409224432334', '20190409225433205']]"
      ]
     },
     "execution_count": 10,
     "metadata": {},
     "output_type": "execute_result"
    }
   ],
   "source": [
    "fileslist=files2list(file_img)\n",
    "fileslist"
   ]
  },
  {
   "cell_type": "code",
   "execution_count": 12,
   "metadata": {},
   "outputs": [
    {
     "data": {
      "text/plain": [
       "['0004', '0002', '0002', '0001', '0001', '0004']"
      ]
     },
     "execution_count": 12,
     "metadata": {},
     "output_type": "execute_result"
    }
   ],
   "source": [
    "nums=[fileslist[i][1] for i in range(len(fileslist))]\n",
    "nums"
   ]
  },
  {
   "cell_type": "markdown",
   "metadata": {},
   "source": [
    "找到（不重复的）摄像头名"
   ]
  },
  {
   "cell_type": "code",
   "execution_count": 13,
   "metadata": {},
   "outputs": [
    {
     "name": "stdout",
     "output_type": "stream",
     "text": [
      "{'0001', '0004', '0002'}\n"
     ]
    },
    {
     "data": {
      "text/plain": [
       "['0001', '0004', '0002']"
      ]
     },
     "execution_count": 13,
     "metadata": {},
     "output_type": "execute_result"
    }
   ],
   "source": [
    "setnums=set(nums)\n",
    "print(setnums)\n",
    "setnums=list(setnums) \n",
    "setnums"
   ]
  },
  {
   "cell_type": "markdown",
   "metadata": {},
   "source": [
    "-------------------------\n",
    "### txt文件读取，修改与写入新txt文件"
   ]
  },
  {
   "cell_type": "markdown",
   "metadata": {},
   "source": [
    "读取一个txt，对每一行的路径信息操作。然后写入新文件"
   ]
  },
  {
   "cell_type": "code",
   "execution_count": null,
   "metadata": {},
   "outputs": [],
   "source": [
    "FILEPATH='./train.txt'\n",
    "lines = open(FILEPATH).readlines()\n",
    "\n",
    "\n",
    "lines = [o.rstrip('\\n') for o in lines]\n",
    "#lines\n",
    "\n",
    "file_names=[os.path.split(o)[1] for o in lines]\n",
    "\n",
    "# %%time\n",
    "# import time\n",
    "with open(\"./for_heat.txt\",'w+') as f:\n",
    "    for o in file_names:\n",
    "        f.write(o+'\\n')\n"
   ]
  },
  {
   "cell_type": "markdown",
   "metadata": {},
   "source": []
  }
 ],
 "metadata": {
  "kernelspec": {
   "display_name": "Python [conda env:fastai]",
   "language": "python",
   "name": "conda-env-fastai-py"
  },
  "language_info": {
   "codemirror_mode": {
    "name": "ipython",
    "version": 3
   },
   "file_extension": ".py",
   "mimetype": "text/x-python",
   "name": "python",
   "nbconvert_exporter": "python",
   "pygments_lexer": "ipython3",
   "version": "3.6.8"
  }
 },
 "nbformat": 4,
 "nbformat_minor": 2
}
